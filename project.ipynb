{
  "nbformat": 4,
  "nbformat_minor": 0,
  "metadata": {
    "colab": {
      "name": "project.ipynb",
      "provenance": [],
      "collapsed_sections": []
    },
    "kernelspec": {
      "name": "python3",
      "display_name": "Python 3"
    },
    "language_info": {
      "name": "python"
    }
  },
  "cells": [
    {
      "cell_type": "code",
      "metadata": {
        "id": "YgoHX3QbzdnD",
        "colab": {
          "base_uri": "https://localhost:8080/"
        },
        "outputId": "8a2f31ce-9908-4b62-bc3b-b0348db3a473"
      },
      "source": [
        "text = 'hello world'\n",
        "\n",
        "import hashlib\n",
        "m=hashlib.md5()\n",
        "m.update(text.encode('utf-8'))\n",
        "print(m.hexdigest())\n"
      ],
      "execution_count": null,
      "outputs": [
        {
          "output_type": "stream",
          "text": [
            "5eb63bbbe01eeed093cb22bb8f5acdc3\n"
          ],
          "name": "stdout"
        }
      ]
    },
    {
      "cell_type": "code",
      "metadata": {
        "id": "7N9zifvDzjru"
      },
      "source": [
        ""
      ],
      "execution_count": null,
      "outputs": []
    }
  ]
}